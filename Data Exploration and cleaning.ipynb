{
 "cells": [
  {
   "cell_type": "code",
   "execution_count": 182,
   "id": "bf2d29d5-d18a-4234-8e5d-b005b78572f7",
   "metadata": {},
   "outputs": [],
   "source": [
    "import pandas as pd\n",
    "import numpy as np\n",
    "from scipy import stats\n",
    "import seaborn as sns\n",
    "from sklearn.model_selection import train_test_split\n",
    "from sklearn.tree import DecisionTreeRegressor\n",
    "from sklearn import tree\n",
    "from sklearn.metrics import mean_squared_error\n",
    "from sklearn.metrics import r2_score, mean_absolute_error, mean_squared_error\n",
    "from sklearn import metrics"
   ]
  },
  {
   "cell_type": "code",
   "execution_count": null,
   "id": "75af9da7-1401-4aee-8cb8-5bde46117278",
   "metadata": {},
   "outputs": [],
   "source": [
    "df=pd.read_excel(r'e:/auto_mpg.xlsx')"
   ]
  },
  {
   "cell_type": "code",
   "execution_count": 37,
   "id": "1f2009bb-63f9-4242-b6e5-a4433fd4c434",
   "metadata": {},
   "outputs": [
    {
     "name": "stdout",
     "output_type": "stream",
     "text": [
      "      mpg  cylinders  displacement  horsepower  weight  acceleration  model_year  origin                              car_name\n",
      "0    18.0          8         307.0       130.0    3504          12.0          70       1             chevrolet chevelle malibu\n",
      "1    15.0          8         350.0       165.0    3693          11.5          70       1                     buick skylark 320\n",
      "2    18.0          8         318.0       150.0    3436          11.0          70       1                    plymouth satellite\n",
      "3    16.0          8         304.0       150.0    3433          12.0          70       1                         amc rebel sst\n",
      "4    17.0          8         302.0       140.0    3449          10.5          70       1                           ford torino\n",
      "5    15.0          8         429.0       198.0    4341          10.0          70       1                      ford galaxie 500\n",
      "6    14.0          8         454.0       220.0    4354           9.0          70       1                      chevrolet impala\n",
      "7    14.0          8         440.0       215.0    4312           8.5          70       1                     plymouth fury iii\n",
      "8    14.0          8         455.0       225.0    4425          10.0          70       1                      pontiac catalina\n",
      "9    15.0          8         390.0       190.0    3850           8.5          70       1                    amc ambassador dpl\n",
      "10   15.0          8         383.0       170.0    3563          10.0          70       1                   dodge challenger se\n",
      "11   14.0          8         340.0       160.0    3609           8.0          70       1                    plymouth 'cuda 340\n",
      "12   15.0          8         400.0       150.0    3761           9.5          70       1                 chevrolet monte carlo\n",
      "13   14.0          8         455.0       225.0    3086          10.0          70       1               buick estate wagon (sw)\n",
      "14   24.0          4         113.0        95.0    2372          15.0          70       3                 toyota corona mark ii\n",
      "15   22.0          6         198.0        95.0    2833          15.5          70       1                       plymouth duster\n",
      "16   18.0          6         199.0        97.0    2774          15.5          70       1                            amc hornet\n",
      "17   21.0          6         200.0        85.0    2587          16.0          70       1                         ford maverick\n",
      "18   27.0          4          97.0        88.0    2130          14.5          70       3                          datsun pl510\n",
      "19   26.0          4          97.0        46.0    1835          20.5          70       2          volkswagen 1131 deluxe sedan\n",
      "20   25.0          4         110.0        87.0    2672          17.5          70       2                           peugeot 504\n",
      "21   24.0          4         107.0        90.0    2430          14.5          70       2                           audi 100 ls\n",
      "22   25.0          4         104.0        95.0    2375          17.5          70       2                              saab 99e\n",
      "23   26.0          4         121.0       113.0    2234          12.5          70       2                              bmw 2002\n",
      "24   21.0          6         199.0        90.0    2648          15.0          70       1                           amc gremlin\n",
      "25   10.0          8         360.0       215.0    4615          14.0          70       1                             ford f250\n",
      "26   10.0          8         307.0       200.0    4376          15.0          70       1                             chevy c20\n",
      "27   11.0          8         318.0       210.0    4382          13.5          70       1                            dodge d200\n",
      "28    9.0          8         304.0       193.0    4732          18.5          70       1                              hi 1200d\n",
      "29   27.0          4          97.0        88.0    2130          14.5          71       3                          datsun pl510\n",
      "30   28.0          4         140.0        90.0    2264          15.5          71       1                   chevrolet vega 2300\n",
      "31   25.0          4         113.0        95.0    2228          14.0          71       3                         toyota corona\n",
      "32   25.0          4          98.0         NaN    2046          19.0          71       1                            ford pinto\n",
      "33   19.0          6         232.0       100.0    2634          13.0          71       1                           amc gremlin\n",
      "34   16.0          6         225.0       105.0    3439          15.5          71       1             plymouth satellite custom\n",
      "35   17.0          6         250.0       100.0    3329          15.5          71       1             chevrolet chevelle malibu\n",
      "36   19.0          6         250.0        88.0    3302          15.5          71       1                       ford torino 500\n",
      "37   18.0          6         232.0       100.0    3288          15.5          71       1                           amc matador\n",
      "38   14.0          8         350.0       165.0    4209          12.0          71       1                      chevrolet impala\n",
      "39   14.0          8         400.0       175.0    4464          11.5          71       1             pontiac catalina brougham\n",
      "40   14.0          8         351.0       153.0    4154          13.5          71       1                      ford galaxie 500\n",
      "41   14.0          8         318.0       150.0    4096          13.0          71       1                     plymouth fury iii\n",
      "42   12.0          8         383.0       180.0    4955          11.5          71       1                     dodge monaco (sw)\n",
      "43   13.0          8         400.0       170.0    4746          12.0          71       1              ford country squire (sw)\n",
      "44   13.0          8         400.0       175.0    5140          12.0          71       1                   pontiac safari (sw)\n",
      "45   18.0          6         258.0       110.0    2962          13.5          71       1            amc hornet sportabout (sw)\n",
      "46   22.0          4         140.0        72.0    2408          19.0          71       1                   chevrolet vega (sw)\n",
      "47   19.0          6         250.0       100.0    3282          15.0          71       1                      pontiac firebird\n",
      "48   18.0          6         250.0        88.0    3139          14.5          71       1                          ford mustang\n",
      "49   23.0          4         122.0        86.0    2220          14.0          71       1                    mercury capri 2000\n",
      "50   28.0          4         116.0        90.0    2123          14.0          71       2                             opel 1900\n",
      "51   30.0          4          79.0        70.0    2074          19.5          71       2                           peugeot 304\n",
      "52   30.0          4          88.0        76.0    2065          14.5          71       2                             fiat 124b\n",
      "53   31.0          4          71.0        65.0    1773          19.0          71       3                   toyota corolla 1200\n",
      "54   35.0          4          72.0        69.0    1613          18.0          71       3                           datsun 1200\n",
      "55   27.0          4          97.0        60.0    1834          19.0          71       2                  volkswagen model 111\n",
      "56   26.0          4          91.0        70.0    1955          20.5          71       1                      plymouth cricket\n",
      "57   24.0          4         113.0        95.0    2278          15.5          72       3                 toyota corona hardtop\n",
      "58   25.0          4          97.5        80.0    2126          17.0          72       1                    dodge colt hardtop\n",
      "59   23.0          4          97.0        54.0    2254          23.5          72       2                     volkswagen type 3\n",
      "60   20.0          4         140.0        90.0    2408          19.5          72       1                        chevrolet vega\n",
      "61   21.0          4         122.0        86.0    2226          16.5          72       1                   ford pinto runabout\n",
      "62   13.0          8         350.0       165.0    4274          12.0          72       1                      chevrolet impala\n",
      "63   14.0          8         400.0       175.0    4385          12.0          72       1                      pontiac catalina\n",
      "64   15.0          8         318.0       150.0    4135          13.5          72       1                     plymouth fury iii\n",
      "65   14.0          8         351.0       153.0    4129          13.0          72       1                      ford galaxie 500\n",
      "66   17.0          8         304.0       150.0    3672          11.5          72       1                    amc ambassador sst\n",
      "67   11.0          8         429.0       208.0    4633          11.0          72       1                       mercury marquis\n",
      "68   13.0          8         350.0       155.0    4502          13.5          72       1                  buick lesabre custom\n",
      "69   12.0          8         350.0       160.0    4456          13.5          72       1            oldsmobile delta 88 royale\n",
      "70   13.0          8         400.0       190.0    4422          12.5          72       1                chrysler newport royal\n",
      "71   19.0          3          70.0        97.0    2330          13.5          72       3                       mazda rx2 coupe\n",
      "72   15.0          8         304.0       150.0    3892          12.5          72       1                      amc matador (sw)\n",
      "73   13.0          8         307.0       130.0    4098          14.0          72       1      chevrolet chevelle concours (sw)\n",
      "74   13.0          8         302.0       140.0    4294          16.0          72       1                 ford gran torino (sw)\n",
      "75   14.0          8         318.0       150.0    4077          14.0          72       1        plymouth satellite custom (sw)\n",
      "76   18.0          4         121.0       112.0    2933          14.5          72       2                       volvo 145e (sw)\n",
      "77   22.0          4         121.0        76.0    2511          18.0          72       2                   volkswagen 411 (sw)\n",
      "78   21.0          4         120.0        87.0    2979          19.5          72       2                      peugeot 504 (sw)\n",
      "79   26.0          4          96.0        69.0    2189          18.0          72       2                       renault 12 (sw)\n",
      "80   22.0          4         122.0        86.0    2395          16.0          72       1                       ford pinto (sw)\n",
      "81   28.0          4          97.0        92.0    2288          17.0          72       3                       datsun 510 (sw)\n",
      "82   23.0          4         120.0        97.0    2506          14.5          72       3           toyouta corona mark ii (sw)\n",
      "83   28.0          4          98.0        80.0    2164          15.0          72       1                       dodge colt (sw)\n",
      "84   27.0          4          97.0        88.0    2100          16.5          72       3              toyota corolla 1600 (sw)\n",
      "85   13.0          8         350.0       175.0    4100          13.0          73       1                     buick century 350\n",
      "86   14.0          8         304.0       150.0    3672          11.5          73       1                           amc matador\n",
      "87   13.0          8         350.0       145.0    3988          13.0          73       1                      chevrolet malibu\n",
      "88   14.0          8         302.0       137.0    4042          14.5          73       1                      ford gran torino\n",
      "89   15.0          8         318.0       150.0    3777          12.5          73       1                  dodge coronet custom\n",
      "90   12.0          8         429.0       198.0    4952          11.5          73       1              mercury marquis brougham\n",
      "91   13.0          8         400.0       150.0    4464          12.0          73       1             chevrolet caprice classic\n",
      "92   13.0          8         351.0       158.0    4363          13.0          73       1                              ford ltd\n",
      "93   14.0          8         318.0       150.0    4237          14.5          73       1              plymouth fury gran sedan\n",
      "94   13.0          8         440.0       215.0    4735          11.0          73       1          chrysler new yorker brougham\n",
      "95   12.0          8         455.0       225.0    4951          11.0          73       1              buick electra 225 custom\n",
      "96   13.0          8         360.0       175.0    3821          11.0          73       1               amc ambassador brougham\n",
      "97   18.0          6         225.0       105.0    3121          16.5          73       1                      plymouth valiant\n",
      "98   16.0          6         250.0       100.0    3278          18.0          73       1                 chevrolet nova custom\n",
      "99   18.0          6         232.0       100.0    2945          16.0          73       1                            amc hornet\n",
      "100  18.0          6         250.0        88.0    3021          16.5          73       1                         ford maverick\n",
      "101  23.0          6         198.0        95.0    2904          16.0          73       1                       plymouth duster\n",
      "102  26.0          4          97.0        46.0    1950          21.0          73       2               volkswagen super beetle\n",
      "103  11.0          8         400.0       150.0    4997          14.0          73       1                      chevrolet impala\n",
      "104  12.0          8         400.0       167.0    4906          12.5          73       1                          ford country\n",
      "105  13.0          8         360.0       170.0    4654          13.0          73       1                plymouth custom suburb\n",
      "106  12.0          8         350.0       180.0    4499          12.5          73       1              oldsmobile vista cruiser\n",
      "107  18.0          6         232.0       100.0    2789          15.0          73       1                           amc gremlin\n",
      "108  20.0          4          97.0        88.0    2279          19.0          73       3                         toyota carina\n",
      "109  21.0          4         140.0        72.0    2401          19.5          73       1                        chevrolet vega\n",
      "110  22.0          4         108.0        94.0    2379          16.5          73       3                            datsun 610\n",
      "111  18.0          3          70.0        90.0    2124          13.5          73       3                             maxda rx3\n",
      "112  19.0          4         122.0        85.0    2310          18.5          73       1                            ford pinto\n",
      "113  21.0          6         155.0       107.0    2472          14.0          73       1                      mercury capri v6\n",
      "114  26.0          4          98.0        90.0    2265          15.5          73       2                  fiat 124 sport coupe\n",
      "115  15.0          8         350.0       145.0    4082          13.0          73       1               chevrolet monte carlo s\n",
      "116  16.0          8         400.0       230.0    4278           9.5          73       1                    pontiac grand prix\n",
      "117  29.0          4          68.0        49.0    1867          19.5          73       2                              fiat 128\n",
      "118  24.0          4         116.0        75.0    2158          15.5          73       2                            opel manta\n",
      "119  20.0          4         114.0        91.0    2582          14.0          73       2                            audi 100ls\n",
      "120  19.0          4         121.0       112.0    2868          15.5          73       2                           volvo 144ea\n",
      "121  15.0          8         318.0       150.0    3399          11.0          73       1                     dodge dart custom\n",
      "122  24.0          4         121.0       110.0    2660          14.0          73       2                             saab 99le\n",
      "123  20.0          6         156.0       122.0    2807          13.5          73       3                        toyota mark ii\n",
      "124  11.0          8         350.0       180.0    3664          11.0          73       1                      oldsmobile omega\n",
      "125  20.0          6         198.0        95.0    3102          16.5          74       1                       plymouth duster\n",
      "126  21.0          6         200.0         NaN    2875          17.0          74       1                         ford maverick\n",
      "127  19.0          6         232.0       100.0    2901          16.0          74       1                            amc hornet\n",
      "128  15.0          6         250.0       100.0    3336          17.0          74       1                        chevrolet nova\n",
      "129  31.0          4          79.0        67.0    1950          19.0          74       3                           datsun b210\n",
      "130  26.0          4         122.0        80.0    2451          16.5          74       1                            ford pinto\n",
      "131  32.0          4          71.0        65.0    1836          21.0          74       3                   toyota corolla 1200\n",
      "132  25.0          4         140.0        75.0    2542          17.0          74       1                        chevrolet vega\n",
      "133  16.0          6         250.0       100.0    3781          17.0          74       1     chevrolet chevelle malibu classic\n",
      "134  16.0          6         258.0       110.0    3632          18.0          74       1                           amc matador\n",
      "135  18.0          6         225.0       105.0    3613          16.5          74       1            plymouth satellite sebring\n",
      "136  16.0          8         302.0       140.0    4141          14.0          74       1                      ford gran torino\n",
      "137  13.0          8         350.0       150.0    4699          14.5          74       1              buick century luxus (sw)\n",
      "138  14.0          8         318.0       150.0    4457          13.5          74       1             dodge coronet custom (sw)\n",
      "139  14.0          8         302.0       140.0    4638          16.0          74       1                 ford gran torino (sw)\n",
      "140  14.0          8         304.0       150.0    4257          15.5          74       1                      amc matador (sw)\n",
      "141  29.0          4          98.0        83.0    2219          16.5          74       2                              audi fox\n",
      "142  26.0          4          79.0        67.0    1963          15.5          74       2                     volkswagen dasher\n",
      "143  26.0          4          97.0        78.0    2300          14.5          74       2                            opel manta\n",
      "144  31.0          4          76.0        52.0    1649          16.5          74       3                         toyota corona\n",
      "145  32.0          4          83.0        61.0    2003          19.0          74       3                            datsun 710\n",
      "146  28.0          4          90.0        75.0    2125          14.5          74       1                            dodge colt\n",
      "147  24.0          4          90.0        75.0    2108          15.5          74       2                              fiat 128\n",
      "148  26.0          4         116.0        75.0    2246          14.0          74       2                           fiat 124 tc\n",
      "149  24.0          4         120.0        97.0    2489          15.0          74       3                           honda civic\n",
      "150  26.0          4         108.0        93.0    2391          15.5          74       3                                subaru\n",
      "151  31.0          4          79.0        67.0    2000          16.0          74       2                             fiat x1.9\n",
      "152  19.0          6         225.0        95.0    3264          16.0          75       1               plymouth valiant custom\n",
      "153  18.0          6         250.0       105.0    3459          16.0          75       1                        chevrolet nova\n",
      "154  15.0          6         250.0        72.0    3432          21.0          75       1                       mercury monarch\n",
      "155  15.0          6         250.0        72.0    3158          19.5          75       1                         ford maverick\n",
      "156  16.0          8         400.0       170.0    4668          11.5          75       1                      pontiac catalina\n",
      "157  15.0          8         350.0       145.0    4440          14.0          75       1                     chevrolet bel air\n",
      "158  16.0          8         318.0       150.0    4498          14.5          75       1                   plymouth grand fury\n",
      "159  14.0          8         351.0       148.0    4657          13.5          75       1                              ford ltd\n",
      "160  17.0          6         231.0       110.0    3907          21.0          75       1                         buick century\n",
      "161  16.0          6         250.0       105.0    3897          18.5          75       1             chevroelt chevelle malibu\n",
      "162  15.0          6         258.0       110.0    3730          19.0          75       1                           amc matador\n",
      "163  18.0          6         225.0        95.0    3785          19.0          75       1                         plymouth fury\n",
      "164  21.0          6         231.0       110.0    3039          15.0          75       1                         buick skyhawk\n",
      "165  20.0          8         262.0       110.0    3221          13.5          75       1                   chevrolet monza 2+2\n",
      "166  13.0          8         302.0       129.0    3169          12.0          75       1                       ford mustang ii\n",
      "167  29.0          4          97.0        75.0    2171          16.0          75       3                        toyota corolla\n",
      "168  23.0          4         140.0        83.0    2639          17.0          75       1                            ford pinto\n",
      "169  20.0          6         232.0       100.0    2914          16.0          75       1                           amc gremlin\n",
      "170  23.0          4         140.0        78.0    2592          18.5          75       1                         pontiac astro\n",
      "171  24.0          4         134.0        96.0    2702          13.5          75       3                         toyota corona\n",
      "172  25.0          4          90.0        71.0    2223          16.5          75       2                     volkswagen dasher\n",
      "173  24.0          4         119.0        97.0    2545          17.0          75       3                            datsun 710\n",
      "174  18.0          6         171.0        97.0    2984          14.5          75       1                            ford pinto\n",
      "175  29.0          4          90.0        70.0    1937          14.0          75       2                     volkswagen rabbit\n",
      "176  19.0          6         232.0        90.0    3211          17.0          75       1                             amc pacer\n",
      "177  23.0          4         115.0        95.0    2694          15.0          75       2                            audi 100ls\n",
      "178  23.0          4         120.0        88.0    2957          17.0          75       2                           peugeot 504\n",
      "179  22.0          4         121.0        98.0    2945          14.5          75       2                           volvo 244dl\n",
      "180  25.0          4         121.0       115.0    2671          13.5          75       2                             saab 99le\n",
      "181  33.0          4          91.0        53.0    1795          17.5          75       3                      honda civic cvcc\n",
      "182  28.0          4         107.0        86.0    2464          15.5          76       2                              fiat 131\n",
      "183  25.0          4         116.0        81.0    2220          16.9          76       2                             opel 1900\n",
      "184  25.0          4         140.0        92.0    2572          14.9          76       1                              capri ii\n",
      "185  26.0          4          98.0        79.0    2255          17.7          76       1                            dodge colt\n",
      "186  27.0          4         101.0        83.0    2202          15.3          76       2                          renault 12tl\n",
      "187  17.5          8         305.0       140.0    4215          13.0          76       1     chevrolet chevelle malibu classic\n",
      "188  16.0          8         318.0       150.0    4190          13.0          76       1                dodge coronet brougham\n",
      "189  15.5          8         304.0       120.0    3962          13.9          76       1                           amc matador\n",
      "190  14.5          8         351.0       152.0    4215          12.8          76       1                      ford gran torino\n",
      "191  22.0          6         225.0       100.0    3233          15.4          76       1                      plymouth valiant\n",
      "192  22.0          6         250.0       105.0    3353          14.5          76       1                        chevrolet nova\n",
      "193  24.0          6         200.0        81.0    3012          17.6          76       1                         ford maverick\n",
      "194  22.5          6         232.0        90.0    3085          17.6          76       1                            amc hornet\n",
      "195  29.0          4          85.0        52.0    2035          22.2          76       1                    chevrolet chevette\n",
      "196  24.5          4          98.0        60.0    2164          22.1          76       1                       chevrolet woody\n",
      "197  29.0          4          90.0        70.0    1937          14.2          76       2                             vw rabbit\n",
      "198  33.0          4          91.0        53.0    1795          17.4          76       3                           honda civic\n",
      "199  20.0          6         225.0       100.0    3651          17.7          76       1                        dodge aspen se\n",
      "200  18.0          6         250.0        78.0    3574          21.0          76       1                     ford granada ghia\n",
      "201  18.5          6         250.0       110.0    3645          16.2          76       1                    pontiac ventura sj\n",
      "202  17.5          6         258.0        95.0    3193          17.8          76       1                         amc pacer d/l\n",
      "203  29.5          4          97.0        71.0    1825          12.2          76       2                     volkswagen rabbit\n",
      "204  32.0          4          85.0        70.0    1990          17.0          76       3                          datsun b-210\n",
      "205  28.0          4          97.0        75.0    2155          16.4          76       3                        toyota corolla\n",
      "206  26.5          4         140.0        72.0    2565          13.6          76       1                            ford pinto\n",
      "207  20.0          4         130.0       102.0    3150          15.7          76       2                             volvo 245\n",
      "208  13.0          8         318.0       150.0    3940          13.2          76       1            plymouth volare premier v8\n",
      "209  19.0          4         120.0        88.0    3270          21.9          76       2                           peugeot 504\n",
      "210  19.0          6         156.0       108.0    2930          15.5          76       3                        toyota mark ii\n",
      "211  16.5          6         168.0       120.0    3820          16.7          76       2                    mercedes-benz 280s\n",
      "212  16.5          8         350.0       180.0    4380          12.1          76       1                      cadillac seville\n",
      "213  13.0          8         350.0       145.0    4055          12.0          76       1                             chevy c10\n",
      "214  13.0          8         302.0       130.0    3870          15.0          76       1                             ford f108\n",
      "215  13.0          8         318.0       150.0    3755          14.0          76       1                            dodge d100\n",
      "216  31.5          4          98.0        68.0    2045          18.5          77       3                     honda accord cvcc\n",
      "217  30.0          4         111.0        80.0    2155          14.8          77       1               buick opel isuzu deluxe\n",
      "218  36.0          4          79.0        58.0    1825          18.6          77       2                         renault 5 gtl\n",
      "219  25.5          4         122.0        96.0    2300          15.5          77       1                     plymouth arrow gs\n",
      "220  33.5          4          85.0        70.0    1945          16.8          77       3                 datsun f-10 hatchback\n",
      "221  17.5          8         305.0       145.0    3880          12.5          77       1             chevrolet caprice classic\n",
      "222  17.0          8         260.0       110.0    4060          19.0          77       1            oldsmobile cutlass supreme\n",
      "223  15.5          8         318.0       145.0    4140          13.7          77       1                 dodge monaco brougham\n",
      "224  15.0          8         302.0       130.0    4295          14.9          77       1               mercury cougar brougham\n",
      "225  17.5          6         250.0       110.0    3520          16.4          77       1                    chevrolet concours\n",
      "226  20.5          6         231.0       105.0    3425          16.9          77       1                         buick skylark\n",
      "227  19.0          6         225.0       100.0    3630          17.7          77       1                plymouth volare custom\n",
      "228  18.5          6         250.0        98.0    3525          19.0          77       1                          ford granada\n",
      "229  16.0          8         400.0       180.0    4220          11.1          77       1                 pontiac grand prix lj\n",
      "230  15.5          8         350.0       170.0    4165          11.4          77       1          chevrolet monte carlo landau\n",
      "231  15.5          8         400.0       190.0    4325          12.2          77       1                      chrysler cordoba\n",
      "232  16.0          8         351.0       149.0    4335          14.5          77       1                      ford thunderbird\n",
      "233  29.0          4          97.0        78.0    1940          14.5          77       2              volkswagen rabbit custom\n",
      "234  24.5          4         151.0        88.0    2740          16.0          77       1                 pontiac sunbird coupe\n",
      "235  26.0          4          97.0        75.0    2265          18.2          77       3               toyota corolla liftback\n",
      "236  25.5          4         140.0        89.0    2755          15.8          77       1                   ford mustang ii 2+2\n",
      "237  30.5          4          98.0        63.0    2051          17.0          77       1                    chevrolet chevette\n",
      "238  33.5          4          98.0        83.0    2075          15.9          77       1                        dodge colt m/m\n",
      "239  30.0          4          97.0        67.0    1985          16.4          77       3                             subaru dl\n",
      "240  30.5          4          97.0        78.0    2190          14.1          77       2                     volkswagen dasher\n",
      "241  22.0          6         146.0        97.0    2815          14.5          77       3                            datsun 810\n",
      "242  21.5          4         121.0       110.0    2600          12.8          77       2                              bmw 320i\n",
      "243  21.5          3          80.0       110.0    2720          13.5          77       3                            mazda rx-4\n",
      "244  43.1          4          90.0        48.0    1985          21.5          78       2       volkswagen rabbit custom diesel\n",
      "245  36.1          4          98.0        66.0    1800          14.4          78       1                           ford fiesta\n",
      "246  32.8          4          78.0        52.0    1985          19.4          78       3                      mazda glc deluxe\n",
      "247  39.4          4          85.0        70.0    2070          18.6          78       3                        datsun b210 gx\n",
      "248  36.1          4          91.0        60.0    1800          16.4          78       3                      honda civic cvcc\n",
      "249  19.9          8         260.0       110.0    3365          15.5          78       1     oldsmobile cutlass salon brougham\n",
      "250  19.4          8         318.0       140.0    3735          13.2          78       1                        dodge diplomat\n",
      "251  20.2          8         302.0       139.0    3570          12.8          78       1                  mercury monarch ghia\n",
      "252  19.2          6         231.0       105.0    3535          19.2          78       1                    pontiac phoenix lj\n",
      "253  20.5          6         200.0        95.0    3155          18.2          78       1                      chevrolet malibu\n",
      "254  20.2          6         200.0        85.0    2965          15.8          78       1                  ford fairmont (auto)\n",
      "255  25.1          4         140.0        88.0    2720          15.4          78       1                   ford fairmont (man)\n",
      "256  20.5          6         225.0       100.0    3430          17.2          78       1                       plymouth volare\n",
      "257  19.4          6         232.0        90.0    3210          17.2          78       1                           amc concord\n",
      "258  20.6          6         231.0       105.0    3380          15.8          78       1                 buick century special\n",
      "259  20.8          6         200.0        85.0    3070          16.7          78       1                        mercury zephyr\n",
      "260  18.6          6         225.0       110.0    3620          18.7          78       1                           dodge aspen\n",
      "261  18.1          6         258.0       120.0    3410          15.1          78       1                       amc concord d/l\n",
      "262  19.2          8         305.0       145.0    3425          13.2          78       1          chevrolet monte carlo landau\n",
      "263  17.7          6         231.0       165.0    3445          13.4          78       1       buick regal sport coupe (turbo)\n",
      "264  18.1          8         302.0       139.0    3205          11.2          78       1                           ford futura\n",
      "265  17.5          8         318.0       140.0    4080          13.7          78       1                       dodge magnum xe\n",
      "266  30.0          4          98.0        68.0    2155          16.5          78       1                    chevrolet chevette\n",
      "267  27.5          4         134.0        95.0    2560          14.2          78       3                         toyota corona\n",
      "268  27.2          4         119.0        97.0    2300          14.7          78       3                            datsun 510\n",
      "269  30.9          4         105.0        75.0    2230          14.5          78       1                            dodge omni\n",
      "270  21.1          4         134.0        95.0    2515          14.8          78       3             toyota celica gt liftback\n",
      "271  23.2          4         156.0       105.0    2745          16.7          78       1                      plymouth sapporo\n",
      "272  23.8          4         151.0        85.0    2855          17.6          78       1                oldsmobile starfire sx\n",
      "273  23.9          4         119.0        97.0    2405          14.9          78       3                         datsun 200-sx\n",
      "274  20.3          5         131.0       103.0    2830          15.9          78       2                             audi 5000\n",
      "275  17.0          6         163.0       125.0    3140          13.6          78       2                           volvo 264gl\n",
      "276  21.6          4         121.0       115.0    2795          15.7          78       2                            saab 99gle\n",
      "277  16.2          6         163.0       133.0    3410          15.8          78       2                         peugeot 604sl\n",
      "278  31.5          4          89.0        71.0    1990          14.9          78       2                   volkswagen scirocco\n",
      "279  29.5          4          98.0        68.0    2135          16.6          78       3                       honda accord lx\n",
      "280  21.5          6         231.0       115.0    3245          15.4          79       1                     pontiac lemans v6\n",
      "281  19.8          6         200.0        85.0    2990          18.2          79       1                      mercury zephyr 6\n",
      "282  22.3          4         140.0        88.0    2890          17.3          79       1                       ford fairmont 4\n",
      "283  20.2          6         232.0        90.0    3265          18.2          79       1                      amc concord dl 6\n",
      "284  20.6          6         225.0       110.0    3360          16.6          79       1                         dodge aspen 6\n",
      "285  17.0          8         305.0       130.0    3840          15.4          79       1             chevrolet caprice classic\n",
      "286  17.6          8         302.0       129.0    3725          13.4          79       1                       ford ltd landau\n",
      "287  16.5          8         351.0       138.0    3955          13.2          79       1                 mercury grand marquis\n",
      "288  18.2          8         318.0       135.0    3830          15.2          79       1                       dodge st. regis\n",
      "289  16.9          8         350.0       155.0    4360          14.9          79       1               buick estate wagon (sw)\n",
      "290  15.5          8         351.0       142.0    4054          14.3          79       1              ford country squire (sw)\n",
      "291  19.2          8         267.0       125.0    3605          15.0          79       1         chevrolet malibu classic (sw)\n",
      "292  18.5          8         360.0       150.0    3940          13.0          79       1  chrysler lebaron town @ country (sw)\n",
      "293  31.9          4          89.0        71.0    1925          14.0          79       2                      vw rabbit custom\n",
      "294  34.1          4          86.0        65.0    1975          15.2          79       3                      maxda glc deluxe\n",
      "295  35.7          4          98.0        80.0    1915          14.4          79       1           dodge colt hatchback custom\n",
      "296  27.4          4         121.0        80.0    2670          15.0          79       1                         amc spirit dl\n",
      "297  25.4          5         183.0        77.0    3530          20.1          79       2                    mercedes benz 300d\n",
      "298  23.0          8         350.0       125.0    3900          17.4          79       1                     cadillac eldorado\n",
      "299  27.2          4         141.0        71.0    3190          24.8          79       2                           peugeot 504\n",
      "300  23.9          8         260.0        90.0    3420          22.2          79       1     oldsmobile cutlass salon brougham\n",
      "301  34.2          4         105.0        70.0    2200          13.2          79       1                      plymouth horizon\n",
      "302  34.5          4         105.0        70.0    2150          14.9          79       1                  plymouth horizon tc3\n",
      "303  31.8          4          85.0        65.0    2020          19.2          79       3                            datsun 210\n",
      "304  37.3          4          91.0        69.0    2130          14.7          79       2                    fiat strada custom\n",
      "305  28.4          4         151.0        90.0    2670          16.0          79       1                 buick skylark limited\n",
      "306  28.8          6         173.0       115.0    2595          11.3          79       1                    chevrolet citation\n",
      "307  26.8          6         173.0       115.0    2700          12.9          79       1             oldsmobile omega brougham\n",
      "308  33.5          4         151.0        90.0    2556          13.2          79       1                       pontiac phoenix\n",
      "309  41.5          4          98.0        76.0    2144          14.7          80       2                             vw rabbit\n",
      "310  38.1          4          89.0        60.0    1968          18.8          80       3                 toyota corolla tercel\n",
      "311  32.1          4          98.0        70.0    2120          15.5          80       1                    chevrolet chevette\n",
      "312  37.2          4          86.0        65.0    2019          16.4          80       3                            datsun 310\n",
      "313  28.0          4         151.0        90.0    2678          16.5          80       1                    chevrolet citation\n",
      "314  26.4          4         140.0        88.0    2870          18.1          80       1                         ford fairmont\n",
      "315  24.3          4         151.0        90.0    3003          20.1          80       1                           amc concord\n",
      "316  19.1          6         225.0        90.0    3381          18.7          80       1                           dodge aspen\n",
      "317  34.3          4          97.0        78.0    2188          15.8          80       2                             audi 4000\n",
      "318  29.8          4         134.0        90.0    2711          15.5          80       3                toyota corona liftback\n",
      "319  31.3          4         120.0        75.0    2542          17.5          80       3                             mazda 626\n",
      "320  37.0          4         119.0        92.0    2434          15.0          80       3                  datsun 510 hatchback\n",
      "321  32.2          4         108.0        75.0    2265          15.2          80       3                        toyota corolla\n",
      "322  46.6          4          86.0        65.0    2110          17.9          80       3                             mazda glc\n",
      "323  27.9          4         156.0       105.0    2800          14.4          80       1                            dodge colt\n",
      "324  40.8          4          85.0        65.0    2110          19.2          80       3                            datsun 210\n",
      "325  44.3          4          90.0        48.0    2085          21.7          80       2                  vw rabbit c (diesel)\n",
      "326  43.4          4          90.0        48.0    2335          23.7          80       2                    vw dasher (diesel)\n",
      "327  36.4          5         121.0        67.0    2950          19.9          80       2                   audi 5000s (diesel)\n",
      "328  30.0          4         146.0        67.0    3250          21.8          80       2                    mercedes-benz 240d\n",
      "329  44.6          4          91.0        67.0    1850          13.8          80       3                   honda civic 1500 gl\n",
      "330  40.9          4          85.0         NaN    1835          17.3          80       2                  renault lecar deluxe\n",
      "331  33.8          4          97.0        67.0    2145          18.0          80       3                             subaru dl\n",
      "332  29.8          4          89.0        62.0    1845          15.3          80       2                      vokswagen rabbit\n",
      "333  32.7          6         168.0       132.0    2910          11.4          80       3                         datsun 280-zx\n",
      "334  23.7          3          70.0       100.0    2420          12.5          80       3                         mazda rx-7 gs\n",
      "335  35.0          4         122.0        88.0    2500          15.1          80       2                     triumph tr7 coupe\n",
      "336  23.6          4         140.0         NaN    2905          14.3          80       1                    ford mustang cobra\n",
      "337  32.4          4         107.0        72.0    2290          17.0          80       3                          honda accord\n",
      "338  27.2          4         135.0        84.0    2490          15.7          81       1                      plymouth reliant\n",
      "339  26.6          4         151.0        84.0    2635          16.4          81       1                         buick skylark\n",
      "340  25.8          4         156.0        92.0    2620          14.4          81       1                dodge aries wagon (sw)\n",
      "341  23.5          6         173.0       110.0    2725          12.6          81       1                    chevrolet citation\n",
      "342  30.0          4         135.0        84.0    2385          12.9          81       1                      plymouth reliant\n",
      "343  39.1          4          79.0        58.0    1755          16.9          81       3                        toyota starlet\n",
      "344  39.0          4          86.0        64.0    1875          16.4          81       1                        plymouth champ\n",
      "345  35.1          4          81.0        60.0    1760          16.1          81       3                      honda civic 1300\n",
      "346  32.3          4          97.0        67.0    2065          17.8          81       3                                subaru\n",
      "347  37.0          4          85.0        65.0    1975          19.4          81       3                        datsun 210 mpg\n",
      "348  37.7          4          89.0        62.0    2050          17.3          81       3                         toyota tercel\n",
      "349  34.1          4          91.0        68.0    1985          16.0          81       3                           mazda glc 4\n",
      "350  34.7          4         105.0        63.0    2215          14.9          81       1                    plymouth horizon 4\n",
      "351  34.4          4          98.0        65.0    2045          16.2          81       1                        ford escort 4w\n",
      "352  29.9          4          98.0        65.0    2380          20.7          81       1                        ford escort 2h\n",
      "353  33.0          4         105.0        74.0    2190          14.2          81       2                      volkswagen jetta\n",
      "354  34.5          4         100.0         NaN    2320          15.8          81       2                           renault 18i\n",
      "355  33.7          4         107.0        75.0    2210          14.4          81       3                         honda prelude\n",
      "356  32.4          4         108.0        75.0    2350          16.8          81       3                        toyota corolla\n",
      "357  32.9          4         119.0       100.0    2615          14.8          81       3                          datsun 200sx\n",
      "358  31.6          4         120.0        74.0    2635          18.3          81       3                             mazda 626\n",
      "359  28.1          4         141.0        80.0    3230          20.4          81       2             peugeot 505s turbo diesel\n",
      "360  30.7          6         145.0        76.0    3160          19.6          81       2                          volvo diesel\n",
      "361  25.4          6         168.0       116.0    2900          12.6          81       3                       toyota cressida\n",
      "362  24.2          6         146.0       120.0    2930          13.8          81       3                     datsun 810 maxima\n",
      "363  22.4          6         231.0       110.0    3415          15.8          81       1                         buick century\n",
      "364  26.6          8         350.0       105.0    3725          19.0          81       1                 oldsmobile cutlass ls\n",
      "365  20.2          6         200.0        88.0    3060          17.1          81       1                       ford granada gl\n",
      "366  17.6          6         225.0        85.0    3465          16.6          81       1                chrysler lebaron salon\n",
      "367  28.0          4         112.0        88.0    2605          19.6          82       1                    chevrolet cavalier\n",
      "368  27.0          4         112.0        88.0    2640          18.6          82       1              chevrolet cavalier wagon\n",
      "369  34.0          4         112.0        88.0    2395          18.0          82       1             chevrolet cavalier 2-door\n",
      "370  31.0          4         112.0        85.0    2575          16.2          82       1            pontiac j2000 se hatchback\n",
      "371  29.0          4         135.0        84.0    2525          16.0          82       1                        dodge aries se\n",
      "372  27.0          4         151.0        90.0    2735          18.0          82       1                       pontiac phoenix\n",
      "373  24.0          4         140.0        92.0    2865          16.4          82       1                  ford fairmont futura\n",
      "374  23.0          4         151.0         NaN    3035          20.5          82       1                        amc concord dl\n",
      "375  36.0          4         105.0        74.0    1980          15.3          82       2                   volkswagen rabbit l\n",
      "376  37.0          4          91.0        68.0    2025          18.2          82       3                    mazda glc custom l\n",
      "377  31.0          4          91.0        68.0    1970          17.6          82       3                      mazda glc custom\n",
      "378  38.0          4         105.0        63.0    2125          14.7          82       1                plymouth horizon miser\n",
      "379  36.0          4          98.0        70.0    2125          17.3          82       1                        mercury lynx l\n",
      "380  36.0          4         120.0        88.0    2160          14.5          82       3                      nissan stanza xe\n",
      "381  36.0          4         107.0        75.0    2205          14.5          82       3                          honda accord\n",
      "382  34.0          4         108.0        70.0    2245          16.9          82       3                        toyota corolla\n",
      "383  38.0          4          91.0        67.0    1965          15.0          82       3                           honda civic\n",
      "384  32.0          4          91.0        67.0    1965          15.7          82       3                    honda civic (auto)\n",
      "385  38.0          4          91.0        67.0    1995          16.2          82       3                         datsun 310 gx\n",
      "386  25.0          6         181.0       110.0    2945          16.4          82       1                 buick century limited\n",
      "387  38.0          6         262.0        85.0    3015          17.0          82       1     oldsmobile cutlass ciera (diesel)\n",
      "388  26.0          4         156.0        92.0    2585          14.5          82       1            chrysler lebaron medallion\n",
      "389  22.0          6         232.0       112.0    2835          14.7          82       1                        ford granada l\n",
      "390  32.0          4         144.0        96.0    2665          13.9          82       3                      toyota celica gt\n",
      "391  36.0          4         135.0        84.0    2370          13.0          82       1                     dodge charger 2.2\n",
      "392  27.0          4         151.0        90.0    2950          17.3          82       1                      chevrolet camaro\n",
      "393  27.0          4         140.0        86.0    2790          15.6          82       1                       ford mustang gl\n",
      "394  44.0          4          97.0        52.0    2130          24.6          82       2                             vw pickup\n",
      "395  32.0          4         135.0        84.0    2295          11.6          82       1                         dodge rampage\n",
      "396  28.0          4         120.0        79.0    2625          18.6          82       1                           ford ranger\n",
      "397  31.0          4         119.0        82.0    2720          19.4          82       1                            chevy s-10\n"
     ]
    }
   ],
   "source": [
    "print(df.to_string())"
   ]
  },
  {
   "cell_type": "code",
   "execution_count": 39,
   "id": "51dca4c5-e3f7-4a9e-b7f0-f72faf7ffe1a",
   "metadata": {},
   "outputs": [
    {
     "name": "stdout",
     "output_type": "stream",
     "text": [
      "<class 'pandas.core.frame.DataFrame'>\n",
      "RangeIndex: 398 entries, 0 to 397\n",
      "Data columns (total 9 columns):\n",
      " #   Column        Non-Null Count  Dtype  \n",
      "---  ------        --------------  -----  \n",
      " 0   mpg           398 non-null    float64\n",
      " 1   cylinders     398 non-null    int64  \n",
      " 2   displacement  398 non-null    float64\n",
      " 3   horsepower    392 non-null    float64\n",
      " 4   weight        398 non-null    int64  \n",
      " 5   acceleration  398 non-null    float64\n",
      " 6   model_year    398 non-null    int64  \n",
      " 7   origin        398 non-null    int64  \n",
      " 8   car_name      398 non-null    object \n",
      "dtypes: float64(4), int64(4), object(1)\n",
      "memory usage: 28.1+ KB\n",
      "None\n"
     ]
    }
   ],
   "source": [
    "print(df.info())"
   ]
  },
  {
   "cell_type": "code",
   "execution_count": 41,
   "id": "9b88f6aa-983a-4dfc-8a1f-acd42a2941c3",
   "metadata": {},
   "outputs": [
    {
     "name": "stdout",
     "output_type": "stream",
     "text": [
      "              mpg   cylinders  displacement  horsepower       weight  \\\n",
      "count  398.000000  398.000000    398.000000  392.000000   398.000000   \n",
      "mean    23.514573    5.454774    193.425879  104.469388  2970.424623   \n",
      "std      7.815984    1.701004    104.269838   38.491160   846.841774   \n",
      "min      9.000000    3.000000     68.000000   46.000000  1613.000000   \n",
      "25%     17.500000    4.000000    104.250000   75.000000  2223.750000   \n",
      "50%     23.000000    4.000000    148.500000   93.500000  2803.500000   \n",
      "75%     29.000000    8.000000    262.000000  126.000000  3608.000000   \n",
      "max     46.600000    8.000000    455.000000  230.000000  5140.000000   \n",
      "\n",
      "       acceleration  model_year      origin  \n",
      "count    398.000000  398.000000  398.000000  \n",
      "mean      15.568090   76.010050    1.572864  \n",
      "std        2.757689    3.697627    0.802055  \n",
      "min        8.000000   70.000000    1.000000  \n",
      "25%       13.825000   73.000000    1.000000  \n",
      "50%       15.500000   76.000000    1.000000  \n",
      "75%       17.175000   79.000000    2.000000  \n",
      "max       24.800000   82.000000    3.000000  \n"
     ]
    }
   ],
   "source": [
    "print(df.describe())"
   ]
  },
  {
   "cell_type": "code",
   "execution_count": 43,
   "id": "e413725d-bf9c-47b8-ac43-7350dad171da",
   "metadata": {},
   "outputs": [],
   "source": [
    "df.drop('car_name',axis=1)\n",
    "x=df['horsepower'].median()\n",
    "df.fillna({'horsepower': x}, inplace=True)"
   ]
  },
  {
   "cell_type": "code",
   "execution_count": 45,
   "id": "41d1d3d0-5c62-42ca-bc7d-e7d9197044f3",
   "metadata": {},
   "outputs": [
    {
     "name": "stdout",
     "output_type": "stream",
     "text": [
      "0\n"
     ]
    }
   ],
   "source": [
    "print(df.duplicated().sum())"
   ]
  },
  {
   "cell_type": "code",
   "execution_count": 51,
   "id": "b0f47244-c4d6-4624-b362-2046c7ccec2f",
   "metadata": {},
   "outputs": [],
   "source": [
    "df.to_excel(r'e:/auto_mpg.xlsx', index=False)"
   ]
  },
  {
   "cell_type": "markdown",
   "id": "dc191d78-2cb8-4f84-8de2-3a04dfde344d",
   "metadata": {},
   "source": [
    "# DATA ANALYSIS"
   ]
  },
  {
   "cell_type": "code",
   "execution_count": 30,
   "id": "6926305e-5af7-4c85-ad6b-8a48015735c2",
   "metadata": {},
   "outputs": [
    {
     "data": {
      "text/html": [
       "<div>\n",
       "<style scoped>\n",
       "    .dataframe tbody tr th:only-of-type {\n",
       "        vertical-align: middle;\n",
       "    }\n",
       "\n",
       "    .dataframe tbody tr th {\n",
       "        vertical-align: top;\n",
       "    }\n",
       "\n",
       "    .dataframe thead th {\n",
       "        text-align: right;\n",
       "    }\n",
       "</style>\n",
       "<table border=\"1\" class=\"dataframe\">\n",
       "  <thead>\n",
       "    <tr style=\"text-align: right;\">\n",
       "      <th></th>\n",
       "      <th>mpg</th>\n",
       "      <th>cylinders</th>\n",
       "      <th>displacement</th>\n",
       "      <th>horsepower</th>\n",
       "      <th>weight</th>\n",
       "      <th>acceleration</th>\n",
       "      <th>model_year</th>\n",
       "      <th>origin</th>\n",
       "      <th>car_name</th>\n",
       "    </tr>\n",
       "  </thead>\n",
       "  <tbody>\n",
       "    <tr>\n",
       "      <th>0</th>\n",
       "      <td>18.0</td>\n",
       "      <td>8</td>\n",
       "      <td>307.0</td>\n",
       "      <td>130.0</td>\n",
       "      <td>3504</td>\n",
       "      <td>12.0</td>\n",
       "      <td>70</td>\n",
       "      <td>1</td>\n",
       "      <td>chevrolet chevelle malibu</td>\n",
       "    </tr>\n",
       "    <tr>\n",
       "      <th>1</th>\n",
       "      <td>15.0</td>\n",
       "      <td>8</td>\n",
       "      <td>350.0</td>\n",
       "      <td>165.0</td>\n",
       "      <td>3693</td>\n",
       "      <td>11.5</td>\n",
       "      <td>70</td>\n",
       "      <td>1</td>\n",
       "      <td>buick skylark 320</td>\n",
       "    </tr>\n",
       "    <tr>\n",
       "      <th>2</th>\n",
       "      <td>18.0</td>\n",
       "      <td>8</td>\n",
       "      <td>318.0</td>\n",
       "      <td>150.0</td>\n",
       "      <td>3436</td>\n",
       "      <td>11.0</td>\n",
       "      <td>70</td>\n",
       "      <td>1</td>\n",
       "      <td>plymouth satellite</td>\n",
       "    </tr>\n",
       "    <tr>\n",
       "      <th>3</th>\n",
       "      <td>16.0</td>\n",
       "      <td>8</td>\n",
       "      <td>304.0</td>\n",
       "      <td>150.0</td>\n",
       "      <td>3433</td>\n",
       "      <td>12.0</td>\n",
       "      <td>70</td>\n",
       "      <td>1</td>\n",
       "      <td>amc rebel sst</td>\n",
       "    </tr>\n",
       "    <tr>\n",
       "      <th>4</th>\n",
       "      <td>17.0</td>\n",
       "      <td>8</td>\n",
       "      <td>302.0</td>\n",
       "      <td>140.0</td>\n",
       "      <td>3449</td>\n",
       "      <td>10.5</td>\n",
       "      <td>70</td>\n",
       "      <td>1</td>\n",
       "      <td>ford torino</td>\n",
       "    </tr>\n",
       "  </tbody>\n",
       "</table>\n",
       "</div>"
      ],
      "text/plain": [
       "    mpg  cylinders  displacement  horsepower  weight  acceleration  \\\n",
       "0  18.0          8         307.0       130.0    3504          12.0   \n",
       "1  15.0          8         350.0       165.0    3693          11.5   \n",
       "2  18.0          8         318.0       150.0    3436          11.0   \n",
       "3  16.0          8         304.0       150.0    3433          12.0   \n",
       "4  17.0          8         302.0       140.0    3449          10.5   \n",
       "\n",
       "   model_year  origin                   car_name  \n",
       "0          70       1  chevrolet chevelle malibu  \n",
       "1          70       1          buick skylark 320  \n",
       "2          70       1         plymouth satellite  \n",
       "3          70       1              amc rebel sst  \n",
       "4          70       1                ford torino  "
      ]
     },
     "execution_count": 30,
     "metadata": {},
     "output_type": "execute_result"
    }
   ],
   "source": [
    "df.head()"
   ]
  },
  {
   "cell_type": "code",
   "execution_count": 65,
   "id": "7a4274c5-8dbe-4e56-a838-656884108d76",
   "metadata": {},
   "outputs": [
    {
     "name": "stdout",
     "output_type": "stream",
     "text": [
      "-0.7753962854205543\n"
     ]
    },
    {
     "data": {
      "text/plain": [
       "<Axes: xlabel='cylinders', ylabel='mpg'>"
      ]
     },
     "execution_count": 65,
     "metadata": {},
     "output_type": "execute_result"
    },
    {
     "data": {
      "image/png": "[encoded data removed]",
      "text/plain": [
       "<Figure size 640x480 with 1 Axes>"
      ]
     },
     "metadata": {},
     "output_type": "display_data"
    }
   ],
   "source": [
    "x=np.array(df['cylinders'])\n",
    "y=np.array(df['mpg'])\n",
    "\n",
    "slope,intercept,r,p,std_err=stats.linregress(x,y)\n",
    "print(r)\n",
    "\n",
    "sns.barplot(x='cylinders', y='mpg', data=df)"
   ]
  },
  {
   "cell_type": "code",
   "execution_count": 67,
   "id": "ed010458-17e1-4ef4-b96d-e4140c1b5c1d",
   "metadata": {},
   "outputs": [
    {
     "name": "stdout",
     "output_type": "stream",
     "text": [
      "-0.804202824805898\n"
     ]
    },
    {
     "data": {
      "text/plain": [
       "<Axes: xlabel='displacement', ylabel='mpg'>"
      ]
     },
     "execution_count": 67,
     "metadata": {},
     "output_type": "execute_result"
    },
    {
     "data": {
      "image/png": "[encoded data removed]",
      "text/plain": [
       "<Figure size 640x480 with 1 Axes>"
      ]
     },
     "metadata": {},
     "output_type": "display_data"
    }
   ],
   "source": [
    "x=np.array(df['displacement'])\n",
    "y=np.array(df['mpg'])\n",
    "\n",
    "slope,intercept,r,p,std_err=stats.linregress(x,y)\n",
    "print(r)\n",
    "\n",
    "sns.barplot(x='displacement', y='mpg', data=df)"
   ]
  },
  {
   "cell_type": "code",
   "execution_count": 69,
   "id": "7239ee02-8f1e-48e8-b75b-482a897a995d",
   "metadata": {},
   "outputs": [
    {
     "name": "stdout",
     "output_type": "stream",
     "text": [
      "-0.7734532045742156\n"
     ]
    },
    {
     "data": {
      "text/plain": [
       "<Axes: xlabel='horsepower', ylabel='mpg'>"
      ]
     },
     "execution_count": 69,
     "metadata": {},
     "output_type": "execute_result"
    },
    {
     "data": {
      "image/png": "[encoded data removed]",
      "text/plain": [
       "<Figure size 640x480 with 1 Axes>"
      ]
     },
     "metadata": {},
     "output_type": "display_data"
    }
   ],
   "source": [
    "x=np.array(df['horsepower'])\n",
    "y=np.array(df['mpg'])\n",
    "\n",
    "slope,intercept,r,p,std_err=stats.linregress(x,y)\n",
    "print(r)\n",
    "\n",
    "sns.barplot(x='horsepower', y='mpg', data=df)"
   ]
  },
  {
   "cell_type": "code",
   "execution_count": 71,
   "id": "cd5953a8-0c48-4302-97e1-63addff229d9",
   "metadata": {},
   "outputs": [
    {
     "name": "stdout",
     "output_type": "stream",
     "text": [
      "-0.8317409332443352\n"
     ]
    },
    {
     "data": {
      "text/plain": [
       "<Axes: xlabel='weight', ylabel='mpg'>"
      ]
     },
     "execution_count": 71,
     "metadata": {},
     "output_type": "execute_result"
    },
    {
     "data": {
      "image/png": "[encoded data removed]",
      "text/plain": [
       "<Figure size 640x480 with 1 Axes>"
      ]
     },
     "metadata": {},
     "output_type": "display_data"
    }
   ],
   "source": [
    "x=np.array(df['weight'])\n",
    "y=np.array(df['mpg'])\n",
    "\n",
    "slope,intercept,r,p,std_err=stats.linregress(x,y)\n",
    "print(r)\n",
    "\n",
    "sns.barplot(x='weight', y='mpg', data=df)"
   ]
  },
  {
   "cell_type": "code",
   "execution_count": 73,
   "id": "d9afdf76-c6a3-40b6-b6c2-c2376a131c58",
   "metadata": {},
   "outputs": [
    {
     "name": "stdout",
     "output_type": "stream",
     "text": [
      "0.4202889121016507\n"
     ]
    },
    {
     "data": {
      "text/plain": [
       "<Axes: xlabel='acceleration', ylabel='mpg'>"
      ]
     },
     "execution_count": 73,
     "metadata": {},
     "output_type": "execute_result"
    },
    {
     "data": {
      "image/png": "[encoded data removed]",
      "text/plain": [
       "<Figure size 640x480 with 1 Axes>"
      ]
     },
     "metadata": {},
     "output_type": "display_data"
    }
   ],
   "source": [
    "x=np.array(df['acceleration'])\n",
    "y=np.array(df['mpg'])\n",
    "\n",
    "slope,intercept,r,p,std_err=stats.linregress(x,y)\n",
    "print(r)\n",
    "\n",
    "sns.barplot(x='acceleration', y='mpg', data=df)"
   ]
  },
  {
   "cell_type": "code",
   "execution_count": 75,
   "id": "971d8c8a-efb8-40f6-9246-aeeb584f149e",
   "metadata": {},
   "outputs": [
    {
     "name": "stdout",
     "output_type": "stream",
     "text": [
      "0.5792671330833097\n"
     ]
    },
    {
     "data": {
      "text/plain": [
       "<Axes: xlabel='model_year', ylabel='mpg'>"
      ]
     },
     "execution_count": 75,
     "metadata": {},
     "output_type": "execute_result"
    },
    {
     "data": {
      "image/png": "[encoded data removed]",
      "text/plain": [
       "<Figure size 640x480 with 1 Axes>"
      ]
     },
     "metadata": {},
     "output_type": "display_data"
    }
   ],
   "source": [
    "x=np.array(df['model_year'])\n",
    "y=np.array(df['mpg'])\n",
    "\n",
    "slope,intercept,r,p,std_err=stats.linregress(x,y)\n",
    "print(r)\n",
    "\n",
    "sns.barplot(x='model_year', y='mpg', data=df)"
   ]
  },
  {
   "cell_type": "code",
   "execution_count": 77,
   "id": "c3cec79a-785d-4e05-b6e3-f97805d4ddc0",
   "metadata": {},
   "outputs": [
    {
     "name": "stdout",
     "output_type": "stream",
     "text": [
      "0.563450359773843\n"
     ]
    },
    {
     "data": {
      "text/plain": [
       "<Axes: xlabel='origin', ylabel='mpg'>"
      ]
     },
     "execution_count": 77,
     "metadata": {},
     "output_type": "execute_result"
    },
    {
     "data": {
      "image/png": "[encoded data removed]",
      "text/plain": [
       "<Figure size 640x480 with 1 Axes>"
      ]
     },
     "metadata": {},
     "output_type": "display_data"
    }
   ],
   "source": [
    "x=np.array(df['origin'])\n",
    "y=np.array(df['mpg'])\n",
    "\n",
    "slope,intercept,r,p,std_err=stats.linregress(x,y)\n",
    "print(r)\n",
    "\n",
    "sns.barplot(x='origin', y='mpg', data=df)"
   ]
  },
  {
   "cell_type": "markdown",
   "id": "c8b78e06-a9f0-44f5-b155-ff0c4e07e7dd",
   "metadata": {},
   "source": [
    "# USING DECISION TREE REGRESSION"
   ]
  },
  {
   "cell_type": "code",
   "execution_count": 105,
   "id": "b051ed17-1795-4737-8da6-562cb8dd682e",
   "metadata": {},
   "outputs": [],
   "source": [
    "#df = df.drop('car_name', axis=1)\n",
    "x = df.drop('mpg', axis=1)\n",
    "y = df['mpg']\n"
   ]
  },
  {
   "cell_type": "code",
   "execution_count": 151,
   "id": "363f0ed7-03e4-4b9c-83b6-d272cd430aff",
   "metadata": {},
   "outputs": [
    {
     "name": "stdout",
     "output_type": "stream",
     "text": [
      "DecisionTreeRegressor(max_depth=4, random_state=0)\n"
     ]
    }
   ],
   "source": [
    "x_train,x_test,y_train,y_test=train_test_split(x,y,test_size=0.3, random_state=10)\n",
    "\n",
    "model=DecisionTreeRegressor(random_state=0,max_depth=4)\n",
    "model.fit(x_train,y_train)\n",
    "print(model)"
   ]
  },
  {
   "cell_type": "code",
   "execution_count": 153,
   "id": "8c2d3d1c-4c9b-4f19-99f7-583fba9d4063",
   "metadata": {},
   "outputs": [
    {
     "name": "stdout",
     "output_type": "stream",
     "text": [
      "Index(['mpg', 'cylinders', 'displacement', 'horsepower', 'weight',\n",
      "       'acceleration', 'model_year', 'origin'],\n",
      "      dtype='object')\n"
     ]
    }
   ],
   "source": [
    "print(df.columns)"
   ]
  },
  {
   "cell_type": "code",
   "execution_count": 155,
   "id": "d5cfbb54-006c-4ba6-9272-f724cf255cdb",
   "metadata": {},
   "outputs": [
    {
     "data": {
      "text/plain": [
       "[Text(0.5, 0.9, 'x[0] <= 5.5\\nsquared_error = 62.269\\nsamples = 278\\nvalue = 23.688'),\n",
       " Text(0.25, 0.7, 'x[2] <= 70.5\\nsquared_error = 32.528\\nsamples = 151\\nvalue = 29.221'),\n",
       " Text(0.125, 0.5, 'x[5] <= 77.5\\nsquared_error = 25.555\\nsamples = 48\\nvalue = 34.192'),\n",
       " Text(0.0625, 0.3, 'x[1] <= 93.5\\nsquared_error = 8.717\\nsamples = 19\\nvalue = 30.421'),\n",
       " Text(0.03125, 0.1, 'squared_error = 4.422\\nsamples = 12\\nvalue = 31.875'),\n",
       " Text(0.09375, 0.1, 'squared_error = 6.245\\nsamples = 7\\nvalue = 27.929'),\n",
       " Text(0.1875, 0.3, 'x[1] <= 97.5\\nsquared_error = 21.169\\nsamples = 29\\nvalue = 36.662'),\n",
       " Text(0.15625, 0.1, 'squared_error = 18.325\\nsamples = 18\\nvalue = 38.678'),\n",
       " Text(0.21875, 0.1, 'squared_error = 8.293\\nsamples = 11\\nvalue = 33.364'),\n",
       " Text(0.375, 0.5, 'x[5] <= 79.5\\nsquared_error = 18.894\\nsamples = 103\\nvalue = 26.904'),\n",
       " Text(0.3125, 0.3, 'x[3] <= 2272.0\\nsquared_error = 9.262\\nsamples = 68\\nvalue = 25.109'),\n",
       " Text(0.28125, 0.1, 'squared_error = 4.515\\nsamples = 24\\nvalue = 27.121'),\n",
       " Text(0.34375, 0.1, 'squared_error = 8.439\\nsamples = 44\\nvalue = 24.011'),\n",
       " Text(0.4375, 0.3, 'x[1] <= 137.5\\nsquared_error = 19.184\\nsamples = 35\\nvalue = 30.391'),\n",
       " Text(0.40625, 0.1, 'squared_error = 13.111\\nsamples = 24\\nvalue = 32.442'),\n",
       " Text(0.46875, 0.1, 'squared_error = 3.254\\nsamples = 11\\nvalue = 25.918'),\n",
       " Text(0.75, 0.7, 'x[3] <= 3607.0\\nsquared_error = 17.96\\nsamples = 127\\nvalue = 17.109'),\n",
       " Text(0.625, 0.5, 'x[5] <= 78.5\\nsquared_error = 16.557\\nsamples = 55\\nvalue = 20.156'),\n",
       " Text(0.5625, 0.3, 'x[4] <= 12.4\\nsquared_error = 3.934\\nsamples = 39\\nvalue = 18.659'),\n",
       " Text(0.53125, 0.1, 'squared_error = 2.24\\nsamples = 5\\nvalue = 16.6'),\n",
       " Text(0.59375, 0.1, 'squared_error = 3.468\\nsamples = 34\\nvalue = 18.962'),\n",
       " Text(0.6875, 0.3, 'x[3] <= 3037.5\\nsquared_error = 28.539\\nsamples = 16\\nvalue = 23.806'),\n",
       " Text(0.65625, 0.1, 'squared_error = 30.456\\nsamples = 8\\nvalue = 27.212'),\n",
       " Text(0.71875, 0.1, 'squared_error = 3.418\\nsamples = 8\\nvalue = 20.4'),\n",
       " Text(0.875, 0.5, 'x[5] <= 73.5\\nsquared_error = 6.522\\nsamples = 72\\nvalue = 14.782'),\n",
       " Text(0.8125, 0.3, 'x[3] <= 4481.5\\nsquared_error = 2.216\\nsamples = 35\\nvalue = 13.114'),\n",
       " Text(0.78125, 0.1, 'squared_error = 0.983\\nsamples = 23\\nvalue = 13.87'),\n",
       " Text(0.84375, 0.1, 'squared_error = 1.389\\nsamples = 12\\nvalue = 11.667'),\n",
       " Text(0.9375, 0.3, 'x[5] <= 80.0\\nsquared_error = 5.476\\nsamples = 37\\nvalue = 16.359'),\n",
       " Text(0.90625, 0.1, 'squared_error = 2.634\\nsamples = 36\\nvalue = 16.075'),\n",
       " Text(0.96875, 0.1, 'squared_error = -0.0\\nsamples = 1\\nvalue = 26.6')]"
      ]
     },
     "execution_count": 155,
     "metadata": {},
     "output_type": "execute_result"
    },
    {
     "data": {
      "image/png": "[encoded data removed]",
      "text/plain": [
       "<Figure size 640x480 with 1 Axes>"
      ]
     },
     "metadata": {},
     "output_type": "display_data"
    }
   ],
   "source": [
    "tree.plot_tree(model)"
   ]
  },
  {
   "cell_type": "markdown",
   "id": "efce60e2-775d-401f-ac59-9895fa9f805b",
   "metadata": {},
   "source": [
    "# PREDICTION"
   ]
  },
  {
   "cell_type": "markdown",
   "id": "fb7e1bc7-7d5e-4c3a-9aa6-bbd262c60aac",
   "metadata": {},
   "source": [
    "the importance is as follows: 1)displacement, 2) horsepower, 3)acceleration\n",
    "\n",
    "helps us find column\n",
    "\n",
    "feature_names = df.columns.tolist()\r\n",
    "print(f\"Feature at index 0: {feature_names[0]}\")\r\n"
   ]
  },
  {
   "cell_type": "code",
   "execution_count": 198,
   "id": "853ffdf4-06fe-46a1-a7af-a59b2de25c62",
   "metadata": {},
   "outputs": [
    {
     "name": "stdin",
     "output_type": "stream",
     "text": [
      "Enter the displacement:  307\n",
      "Enter the horsepower:  131\n",
      "Enter the acceleration:  12\n"
     ]
    },
    {
     "name": "stdout",
     "output_type": "stream",
     "text": [
      "Predicted mpg for displacement=307.0, horsepower=131.0,  acceleration=12.0: 17.330000000000002\n"
     ]
    }
   ],
   "source": [
    "features = ['displacement', 'horsepower', 'acceleration']\n",
    "\n",
    "# Extracting features and target\n",
    "X = df[features]  # Features\n",
    "y = df['mpg']     # Target\n",
    "\n",
    "# Splitting the data into training and test sets\n",
    "#X_train, X_test, y_train, y_test = train_test_split(X, y, test_size=0.3, random_state=10)\n",
    "\n",
    "# Initializing and training the model\n",
    "#model = DecisionTreeRegressor(random_state=0, max_depth=5)\n",
    "#model.fit(X_train, y_train)\n",
    "\n",
    "# Take user inputs for horsepower, weight, and acceleration\n",
    "displacement_input = float(input(\"Enter the displacement: \"))\n",
    "horsepower_input = float(input(\"Enter the horsepower: \"))\n",
    "\n",
    "acceleration_input = float(input(\"Enter the acceleration: \"))\n",
    "\n",
    "# Create a DataFrame for the input (since the model expects input as a 2D array or DataFrame)\n",
    "input_df = pd.DataFrame([[displacement_input, horsepower_input, acceleration_input]], columns=['displacement', 'horsepower', 'acceleration'])\n",
    "\n",
    "# Predict the mpg for the input values\n",
    "predicted_mpg = model.predict(input_df)\n",
    "\n",
    "# Output the result\n",
    "print(f\"Predicted mpg for displacement={displacement_input}, horsepower={horsepower_input},  acceleration={acceleration_input}: {predicted_mpg[0]}\")\n"
   ]
  },
  {
   "cell_type": "markdown",
   "id": "64f0ea10-35e9-4442-bc32-2fbf9998fc5e",
   "metadata": {},
   "source": [
    "# Accuracy calculation\n",
    "\n",
    "To evaluate the accuracy of a regression model like a Decision Tree Regressor, the term \"accuracy\" isn't typically used since regression models predict continuous values. Instead, we use metrics such as:\n",
    "\n",
    "1. R² Score (Coefficient of Determination):\n",
    "The R² score tells you how well your model explains the variance in the target variable. A value closer to 1 indicates a better fit.\n",
    "\n",
    "Function to use:\n",
    "\n",
    "python\n",
    "Copy code\n",
    "from sklearn.metrics import r2_score\n",
    "r2 = r2_score(y_test, y_pred)\n",
    "print(f\"R² Score: {r2}\")\n",
    "2. Mean Absolute Error (MAE):\n",
    "MAE measures the average magnitude of errors in predictions, without considering their direction.\n",
    "\n",
    "Function to use:\n",
    "\n",
    "python\n",
    "Copy code\n",
    "from sklearn.metrics import mean_absolute_error\n",
    "mae = mean_absolute_error(y_test, y_pred)\n",
    "print(f\"Mean Absolute Error: {mae}\")\n",
    "3. Mean Squared Error (MSE):\n",
    "MSE calculates the average squared difference between the actual and predicted values, giving more weight to larger errors.\n",
    "\n",
    "Function to use:\n",
    "\n",
    "python\n",
    "Copy code\n",
    "from sklearn.metrics import mean_squared_error\n",
    "mse = mean_squared_error(y_test, y_pred)\n",
    "print(f\"Mean Squared Error: {mse}\")\n",
    "4. Root Mean Squared Error (RMSE):\n",
    "RMSE is the square root of MSE and is often more interpretable because it’s in the same units as the target variable.\n",
    "\n",
    "To calculate RMSE:\n",
    "\n",
    "python\n",
    "Copy code\n",
    "import numpy as np\n",
    "rmse = np.sqrt(mse)\n",
    "print(f\"Root Mean Squared Error: {rmse}\")\n",
    "How to Evaluate:\n",
    "After fitting your model (model.fit(x_train, y_train)), you predict on the test set:\n",
    "\n",
    "python\n",
    "Copy code\n",
    "y_pred = model.predict(x_test)\n",
    "Then use one or more of the above metrics to evaluate your model.\n",
    "\n",
    "Example:\n",
    "python\n",
    "Copy code\n",
    "from sklearn.metrics import r2_score, mean_absolute_error, mean_squared_error\n",
    "import numpy as np\n",
    "\n",
    "# Predictions\n",
    "y_pred = model.predict(x_test)\n",
    "\n",
    "# Metrics\n",
    "r2 = r2_score(y_test, y_pred)\n",
    "mae = mean_absolute_error(y_test, y_pred)\n",
    "mse = mean_squared_error(y_test, y_pred)\n",
    "rmse = np.sqrt(mse)\n",
    "\n",
    "print(f\"R² Score: {r2}\")\n",
    "print(f\"Mean Absolute Error: {mae}\")\n",
    "print(f\"Mean Squared Error: {mse}\")\n",
    "print(f\"Root Mean Squared Error: {rmse}\")\n",
    "Choose the metric(s) most relevant to your specific problem!\n",
    "\n",
    "\n",
    "\n",
    "\n",
    "\n",
    "\n"
   ]
  },
  {
   "cell_type": "code",
   "execution_count": 174,
   "id": "ac3b2460-520e-468e-9b43-24b6452504b7",
   "metadata": {},
   "outputs": [
    {
     "name": "stdout",
     "output_type": "stream",
     "text": [
      "x_train features: Index(['cylinders', 'displacement', 'horsepower', 'weight', 'acceleration',\n",
      "       'model_year', 'origin'],\n",
      "      dtype='object')\n",
      "x_test features: Index(['cylinders', 'displacement', 'horsepower', 'weight', 'acceleration',\n",
      "       'model_year', 'origin'],\n",
      "      dtype='object')\n"
     ]
    }
   ],
   "source": [
    "print(\"x_train features:\", x_train.columns)\n",
    "print(\"x_test features:\", x_test.columns)\n"
   ]
  },
  {
   "cell_type": "code",
   "execution_count": 194,
   "id": "c5d74c24-ac36-4ab9-b118-c803fd45b754",
   "metadata": {},
   "outputs": [
    {
     "name": "stdout",
     "output_type": "stream",
     "text": [
      "test rmse= 4.633409659894807\n"
     ]
    }
   ],
   "source": [
    "# Select only the features present in x_train\n",
    "x_test = x_test[X_train.columns]\n",
    "\n",
    "# Make predictions\n",
    "y_pred = model.predict(x_test)\n",
    "\n",
    "\n",
    "print(\"test rmse=\", np.sqrt(metrics.mean_squared_error(y_test,y_pred)))"
   ]
  },
  {
   "cell_type": "code",
   "execution_count": 196,
   "id": "dad8f05e-4094-450d-b3db-f6e16e89d585",
   "metadata": {},
   "outputs": [
    {
     "name": "stdout",
     "output_type": "stream",
     "text": [
      "R² Score: 0.6274017665143581\n",
      "Mean Absolute Error: 3.1655955141593295\n",
      "Mean Squared Error: 21.46848507640651\n",
      "Root Mean Squared Error: 4.633409659894807\n"
     ]
    }
   ],
   "source": [
    "r2 = r2_score(y_test, y_pred)\n",
    "mae = mean_absolute_error(y_test, y_pred)\n",
    "mse = mean_squared_error(y_test, y_pred)\n",
    "rmse = np.sqrt(mse)\n",
    "\n",
    "print(f\"R² Score: {r2}\")\n",
    "print(f\"Mean Absolute Error: {mae}\")\n",
    "print(f\"Mean Squared Error: {mse}\")\n",
    "print(f\"Root Mean Squared Error: {rmse}\")"
   ]
  },
  {
   "cell_type": "code",
   "execution_count": null,
   "id": "92ce708c-8578-4321-b0d3-d94cfb3abeeb",
   "metadata": {},
   "outputs": [],
   "source": []
  }
 ],
 "metadata": {
  "kernelspec": {
   "display_name": "Python 3 (ipykernel)",
   "language": "python",
   "name": "python3"
  },
  "language_info": {
   "codemirror_mode": {
    "name": "ipython",
    "version": 3
   },
   "file_extension": ".py",
   "mimetype": "text/x-python",
   "name": "python",
   "nbconvert_exporter": "python",
   "pygments_lexer": "ipython3",
   "version": "3.12.4"
  }
 },
 "nbformat": 4,
 "nbformat_minor": 5
}
